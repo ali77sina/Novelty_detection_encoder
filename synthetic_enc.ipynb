{
  "nbformat": 4,
  "nbformat_minor": 0,
  "metadata": {
    "colab": {
      "name": "MEDIUM_ENC.ipynb",
      "provenance": [],
      "collapsed_sections": [],
      "authorship_tag": "ABX9TyPQegi36qvu6WlC21OysNlP",
      "include_colab_link": true
    },
    "kernelspec": {
      "name": "python3",
      "display_name": "Python 3"
    },
    "language_info": {
      "name": "python"
    }
  },
  "cells": [
    {
      "cell_type": "markdown",
      "metadata": {
        "id": "view-in-github",
        "colab_type": "text"
      },
      "source": [
        "<a href=\"https://colab.research.google.com/github/ali77sina/Novelty_detection_encoder/blob/main/synthetic_enc.ipynb\" target=\"_parent\"><img src=\"https://colab.research.google.com/assets/colab-badge.svg\" alt=\"Open In Colab\"/></a>"
      ]
    },
    {
      "cell_type": "code",
      "execution_count": 85,
      "metadata": {
        "id": "iWcU0i5k7tQ5"
      },
      "outputs": [],
      "source": [
        "import numpy as np\n",
        "import tensorflow as tf\n",
        "import matplotlib.pyplot as plt\n",
        "from scipy.signal import hilbert\n",
        "from sklearn.utils import shuffle"
      ]
    },
    {
      "cell_type": "code",
      "source": [
        "#defining training set length and parameters\n",
        "pi = np.pi  #value of pi\n",
        "n = 5000  #number of training sets\n",
        "sec = 3 #length of the sin wave\n",
        "amp_mu = 2  #mean of the amplitude dist\n",
        "amp_sig = 0.1 #std of the amplitude dist\n",
        "amp_mu_ab = 30  #mean of the abnormal amplitude dist\n",
        "amp_sig_ab = 0.1 #std of the abnormal amplitude dist\n",
        "f_max = 5 #maximum frequency recorded in Hz\n",
        "fs = 512  #samplig frequency in Hz"
      ],
      "metadata": {
        "id": "MfJ0YOhd9saT"
      },
      "execution_count": 197,
      "outputs": []
    },
    {
      "cell_type": "code",
      "source": [
        "#Gaussian distribution of amplitudes \n",
        "plt.rcParams[\"figure.figsize\"] = (12,5)\n",
        "r = 0.1\n",
        "num_norm = int(n*(1-r))\n",
        "num_ab = int(n*r)\n",
        "amps_norm = np.random.normal(amp_mu,amp_sig,num_norm)\n",
        "amps_ab = np.random.normal(amp_mu_ab,amp_sig_ab,num_ab)\n",
        "amps = np.concatenate((amps_norm, amps_ab), axis = 0)\n",
        "#shuffling the amplitudes vector for training\n",
        "amps = shuffle(amps)\n",
        "#converting units to uV\n",
        "amps = amps*10**-6\n",
        "#plotting\n",
        "plt.subplot(131)\n",
        "plt.hist(amps_norm)\n",
        "plt.title('Normal Amplitudes')\n",
        "plt.subplot(132)\n",
        "plt.hist(amps_ab)\n",
        "plt.title('Abnormal Amplitudes')\n",
        "plt.subplot(133)\n",
        "plt.hist(amps, bins = 50)\n",
        "plt.title('Histogram of Amplitudes')\n",
        "plt.tight_layout()"
      ],
      "metadata": {
        "id": "3eZYK1eu9CEI"
      },
      "execution_count": null,
      "outputs": []
    },
    {
      "cell_type": "code",
      "source": [
        "#uniformly distributed frequencies\n",
        "f = np.random.random(n)*f_max\n",
        "plt.hist(f, bins = 50)\n",
        "plt.title('Histogram of Freuqncies')\n",
        "plt.xlabel('Frequency (Hz)')"
      ],
      "metadata": {
        "id": "RIlAyFgb9h1M"
      },
      "execution_count": null,
      "outputs": []
    },
    {
      "cell_type": "code",
      "source": [
        "#making the synthetic training set\n",
        "t = np.linspace(0,sec,fs*sec) #defining the time vector\n",
        "x_train = np.zeros(shape = (n, fs*sec)) + (np.random.random(fs*sec) - 0.5)*0.1\n",
        "for i in range(n):\n",
        "  x_train[i] = amps[i]*np.sin(2*pi*f[i]*t)\n",
        "print(x_train.shape)"
      ],
      "metadata": {
        "id": "TePgO9KG-m9A"
      },
      "execution_count": null,
      "outputs": []
    },
    {
      "cell_type": "code",
      "source": [
        "inp = tf.keras.layers.Input(shape=(fs*sec)) #input recieveing the sin waves\n",
        "hid = tf.keras.layers.Dense(128, activation = 'relu')(inp)  #one hidden layer \n",
        "latent = tf.keras.layers.Dense(2, activation = 'sigmoid')(hid) #latent space\n",
        "model_m = tf.keras.models.Model(inputs = inp, outputs = latent) \n",
        "model_m.compile(optimizer = 'adam', metrics = ['accuracy'], loss = 'binary_crossentropy') #model compiled to map input into the latent space later\n",
        "hid = tf.keras.layers.Dense(128, activation = 'relu')(model_m.output) #hidden layer in decoding network\n",
        "out = tf.keras.layers.Dense(fs*sec)(hid)  #output reconstructing the sin vector (decoding)\n",
        "model_f = tf.keras.models.Model(inputs = inp, outputs = out)\n",
        "model_f.compile(optimizer = 'adam', metrics = ['accuracy'], loss = 'mse')"
      ],
      "metadata": {
        "id": "6hErlwYW_X4w"
      },
      "execution_count": 116,
      "outputs": []
    },
    {
      "cell_type": "code",
      "source": [
        "tf.keras.utils.plot_model(model_f, show_shapes=True, show_layer_names=False)"
      ],
      "metadata": {
        "id": "g82Zq8zdmGfp"
      },
      "execution_count": null,
      "outputs": []
    },
    {
      "cell_type": "code",
      "source": [
        "for i in range(5000):\n",
        "  ind1 = int(np.random.random()*len(x_train))\n",
        "  ind2 = ind1 + 125\n",
        "  loss, _ = model_f.train_on_batch(x_train[ind1:ind2], x_train[ind1:ind2])\n",
        "  if i%500 == 0:\n",
        "    print(i)\n",
        "    print(loss)\n",
        "    print('\\n')"
      ],
      "metadata": {
        "id": "Ov_ugfqW_pOX"
      },
      "execution_count": null,
      "outputs": []
    },
    {
      "cell_type": "code",
      "source": [
        "#latent space representation\n",
        "preds = model_m.predict(x_train)\n",
        "plt.scatter(preds[:,0], preds[:,1], c = amps, cmap = 'coolwarm')\n",
        "plt.colorbar(label = 'Amplitudes')"
      ],
      "metadata": {
        "id": "eYNdWmfPBJ6D"
      },
      "execution_count": null,
      "outputs": []
    },
    {
      "cell_type": "code",
      "source": [
        "plt.hist(preds[:,0], bins = 50)\n",
        "mu0 = np.mean(preds[:,0])\n",
        "sig0 = np.std(preds[:,0])\n",
        "m0 = 0.6\n",
        "#vertical lines denoting thresholds\n",
        "plt.axvline(mu0 + m0*sig0, color = 'red')\n",
        "plt.axvline(mu0 - m0*sig0, color = 'red')\n",
        "plt.show()\n",
        "mu1 = np.mean(preds[:,1])\n",
        "sig1 = np.std(preds[:,1])\n",
        "m1 = 0.5\n",
        "#vertical lines denoting thresholds\n",
        "plt.axvline(mu1 + m1*sig1, color = 'red')\n",
        "plt.axvline(mu1 - m1*sig1, color = 'red')\n",
        "plt.hist(preds[:,1], bins = 50)\n",
        "plt.show()"
      ],
      "metadata": {
        "id": "FHJhWZ8xOr_e"
      },
      "execution_count": null,
      "outputs": []
    },
    {
      "cell_type": "code",
      "source": [
        "#collecting outlier indecies based on thresholds\n",
        "num1 = [i for i,j in enumerate(preds[:,0]) if j < mu0 - m0*sig0 or j > mu0 + m0*sig0]\n",
        "num2 = [i for i,j in enumerate(preds[:,1]) if j < mu1 - m1*sig1 or j > mu1 + m1*sig1]\n",
        "num = np.concatenate((num1, num2), axis = 0)"
      ],
      "metadata": {
        "id": "tRkbaC8gRjKW"
      },
      "execution_count": 187,
      "outputs": []
    },
    {
      "cell_type": "code",
      "source": [
        "#PSD for abnormal samples\n",
        "vals_ab = []\n",
        "for i in num:\n",
        "  temp, freq = plt.psd(x_train[int(i)], Fs = fs)\n",
        "  vals_ab.append(temp)"
      ],
      "metadata": {
        "id": "I_mB00SsPgp3"
      },
      "execution_count": null,
      "outputs": []
    },
    {
      "cell_type": "code",
      "source": [
        "#Averaging PSD values \n",
        "vals_ab = np.array(vals_ab)\n",
        "print(vals_ab.shape)\n",
        "means_abnormal = np.zeros(129)\n",
        "stds_abnormal = np.zeros(129)\n",
        "for i in range(129):\n",
        "  means_abnormal[i] = np.mean(np.log(vals_ab[:,i]))\n",
        "  stds_abnormal[i] = np.std(np.log(vals_ab[:,i]))"
      ],
      "metadata": {
        "id": "0MpC8zgBSQoz"
      },
      "execution_count": null,
      "outputs": []
    },
    {
      "cell_type": "code",
      "source": [
        "plt.plot(means_abnormal)"
      ],
      "metadata": {
        "id": "hf9kFVnjSW32"
      },
      "execution_count": null,
      "outputs": []
    },
    {
      "cell_type": "code",
      "source": [
        "#indecies for normal snippets \n",
        "normal = []\n",
        "for i in range(len(num)):\n",
        "  ind = np.random.random()*len(x_train)\n",
        "  ind = int(ind)\n",
        "  isin = False\n",
        "  for j in num:\n",
        "    if j == ind:\n",
        "      isin = True\n",
        "  if not isin:\n",
        "    normal.append(x_train[ind])"
      ],
      "metadata": {
        "id": "jDSSUD_iRae4"
      },
      "execution_count": 192,
      "outputs": []
    },
    {
      "cell_type": "code",
      "source": [
        "new_vals = []\n",
        "for i in normal:\n",
        "  temp, freq = plt.psd(i, Fs = fs)\n",
        "  new_vals.append(temp)"
      ],
      "metadata": {
        "id": "EUKyyn2pSCui"
      },
      "execution_count": null,
      "outputs": []
    },
    {
      "cell_type": "code",
      "source": [
        "new_vals = np.array(new_vals)\n",
        "print(new_vals.shape)\n",
        "means_normal = np.zeros(129)\n",
        "stds_normal = np.zeros(129)\n",
        "for i in range(129):\n",
        "  means_normal[i] = np.mean(np.log(new_vals[:,i]))\n",
        "  stds_normal[i] = np.std(np.log(new_vals[:,i]))"
      ],
      "metadata": {
        "id": "a8W1woppSNBK"
      },
      "execution_count": null,
      "outputs": []
    },
    {
      "cell_type": "code",
      "source": [
        "plt.plot(means_normal)"
      ],
      "metadata": {
        "id": "l5LVzX_IS7I7"
      },
      "execution_count": null,
      "outputs": []
    },
    {
      "cell_type": "code",
      "source": [
        "plt.rcParams[\"figure.figsize\"] = (5,5)\n",
        "\n",
        "plt.plot(means_normal, color = 'green', label = 'normal')\n",
        "plt.plot(means_abnormal, color = 'red', label = 'abnormal')\n",
        "plt.grid()\n",
        "plt.legend()"
      ],
      "metadata": {
        "id": "9na3FbRbS8nL"
      },
      "execution_count": null,
      "outputs": []
    },
    {
      "cell_type": "code",
      "source": [
        ""
      ],
      "metadata": {
        "id": "uElPZ2pvfEud"
      },
      "execution_count": null,
      "outputs": []
    }
  ]
}